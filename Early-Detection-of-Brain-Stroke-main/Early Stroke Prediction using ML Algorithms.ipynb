{
 "cells": [
  {
   "cell_type": "code",
   "execution_count": null,
   "id": "cf53a83e",
   "metadata": {},
   "outputs": [
    {
     "ename": "",
     "evalue": "",
     "output_type": "error",
     "traceback": [
      "\u001b[1;31mFailed to start the Kernel. \n",
      "\u001b[1;31mOSError: [WinError 123] The filename, directory name, or volume label syntax is incorrect: '\"c:'. \n",
      "\u001b[1;31mView Jupyter <a href='command:jupyter.viewOutput'>log</a> for further details."
     ]
    }
   ],
   "source": [
    "\n",
    "# importing required libraries\n",
    "\n",
    "import pandas as pd\n",
    "import numpy as np\n",
    "import matplotlib.pyplot as plt\n",
    "import seaborn as sns\n",
    "\n"
   ]
  },
  {
   "cell_type": "code",
   "execution_count": null,
   "id": "e62e8c8f",
   "metadata": {},
   "outputs": [
    {
     "ename": "",
     "evalue": "",
     "output_type": "error",
     "traceback": [
      "\u001b[1;31mFailed to start the Kernel. \n",
      "\u001b[1;31mOSError: [WinError 123] The filename, directory name, or volume label syntax is incorrect: '\"c:'. \n",
      "\u001b[1;31mView Jupyter <a href='command:jupyter.viewOutput'>log</a> for further details."
     ]
    }
   ],
   "source": [
    "# Reading the Dataset\n",
    "df_stroke= pd.read_csv(\"C:\\\\Users\\\\SANDEEP REDDY CHALLA\\\\OneDrive\\\\Desktop\\\\Early-Detection-of-Brain-Stroke-main\\\\Early-Detection-of-Brain-Stroke-main\\\\healthcare-dataset-stroke-data updated.csv\")"
   ]
  },
  {
   "cell_type": "code",
   "execution_count": null,
   "id": "c043886f",
   "metadata": {},
   "outputs": [
    {
     "ename": "",
     "evalue": "",
     "output_type": "error",
     "traceback": [
      "\u001b[1;31mFailed to start the Kernel. \n",
      "\u001b[1;31mOSError: [WinError 123] The filename, directory name, or volume label syntax is incorrect: '\"c:'. \n",
      "\u001b[1;31mView Jupyter <a href='command:jupyter.viewOutput'>log</a> for further details."
     ]
    }
   ],
   "source": [
    "df_stroke_row_count, df_stroke_column_count=df_stroke.shape\n",
    "print('Total number of rows:', df_stroke_row_count)\n",
    "print('Total number of columns:', df_stroke_column_count)"
   ]
  },
  {
   "cell_type": "code",
   "execution_count": null,
   "id": "88e46a2b",
   "metadata": {},
   "outputs": [
    {
     "ename": "",
     "evalue": "",
     "output_type": "error",
     "traceback": [
      "\u001b[1;31mFailed to start the Kernel. \n",
      "\u001b[1;31mOSError: [WinError 123] The filename, directory name, or volume label syntax is incorrect: '\"c:'. \n",
      "\u001b[1;31mView Jupyter <a href='command:jupyter.viewOutput'>log</a> for further details."
     ]
    }
   ],
   "source": [
    "df_stroke.describe()"
   ]
  },
  {
   "cell_type": "code",
   "execution_count": null,
   "id": "2612b112",
   "metadata": {},
   "outputs": [
    {
     "ename": "",
     "evalue": "",
     "output_type": "error",
     "traceback": [
      "\u001b[1;31mFailed to start the Kernel. \n",
      "\u001b[1;31mOSError: [WinError 123] The filename, directory name, or volume label syntax is incorrect: '\"c:'. \n",
      "\u001b[1;31mView Jupyter <a href='command:jupyter.viewOutput'>log</a> for further details."
     ]
    }
   ],
   "source": [
    "df_stroke.info()"
   ]
  },
  {
   "cell_type": "code",
   "execution_count": null,
   "id": "f3279c3b",
   "metadata": {},
   "outputs": [
    {
     "ename": "",
     "evalue": "",
     "output_type": "error",
     "traceback": [
      "\u001b[1;31mFailed to start the Kernel. \n",
      "\u001b[1;31mOSError: [WinError 123] The filename, directory name, or volume label syntax is incorrect: '\"c:'. \n",
      "\u001b[1;31mView Jupyter <a href='command:jupyter.viewOutput'>log</a> for further details."
     ]
    }
   ],
   "source": [
    "df_stroke.isna().sum()"
   ]
  },
  {
   "cell_type": "code",
   "execution_count": null,
   "id": "b06dd001",
   "metadata": {},
   "outputs": [
    {
     "ename": "",
     "evalue": "",
     "output_type": "error",
     "traceback": [
      "\u001b[1;31mFailed to start the Kernel. \n",
      "\u001b[1;31mOSError: [WinError 123] The filename, directory name, or volume label syntax is incorrect: '\"c:'. \n",
      "\u001b[1;31mView Jupyter <a href='command:jupyter.viewOutput'>log</a> for further details."
     ]
    }
   ],
   "source": [
    "print (\"Unique values are:\\n\",df_stroke.nunique())"
   ]
  },
  {
   "cell_type": "code",
   "execution_count": null,
   "id": "ce3977c0",
   "metadata": {},
   "outputs": [
    {
     "ename": "",
     "evalue": "",
     "output_type": "error",
     "traceback": [
      "\u001b[1;31mFailed to start the Kernel. \n",
      "\u001b[1;31mOSError: [WinError 123] The filename, directory name, or volume label syntax is incorrect: '\"c:'. \n",
      "\u001b[1;31mView Jupyter <a href='command:jupyter.viewOutput'>log</a> for further details."
     ]
    }
   ],
   "source": [
    "#checking Datatypes\n",
    "df_stroke.dtypes"
   ]
  },
  {
   "cell_type": "code",
   "execution_count": null,
   "id": "97dbf38c",
   "metadata": {},
   "outputs": [
    {
     "ename": "",
     "evalue": "",
     "output_type": "error",
     "traceback": [
      "\u001b[1;31mFailed to start the Kernel. \n",
      "\u001b[1;31mOSError: [WinError 123] The filename, directory name, or volume label syntax is incorrect: '\"c:'. \n",
      "\u001b[1;31mView Jupyter <a href='command:jupyter.viewOutput'>log</a> for further details."
     ]
    }
   ],
   "source": [
    "#counting outliers for bmi\n",
    "\n",
    "bmi_outliers=df_stroke[df_stroke['bmi']>50]\n",
    "bmi_outliers['bmi'].shape"
   ]
  },
  {
   "cell_type": "code",
   "execution_count": null,
   "id": "bf19e5c2",
   "metadata": {},
   "outputs": [
    {
     "ename": "",
     "evalue": "",
     "output_type": "error",
     "traceback": [
      "\u001b[1;31mFailed to start the Kernel. \n",
      "\u001b[1;31mOSError: [WinError 123] The filename, directory name, or volume label syntax is incorrect: '\"c:'. \n",
      "\u001b[1;31mView Jupyter <a href='command:jupyter.viewOutput'>log</a> for further details."
     ]
    }
   ],
   "source": [
    "#replacing outlier entries with mean of bmi\n",
    "df_stroke[\"bmi\"] = df_stroke[\"bmi\"].apply(lambda x: df_stroke.bmi.mean() if x>50 else x)"
   ]
  },
  {
   "cell_type": "code",
   "execution_count": null,
   "id": "9bfac7c7",
   "metadata": {},
   "outputs": [
    {
     "ename": "",
     "evalue": "",
     "output_type": "error",
     "traceback": [
      "\u001b[1;31mFailed to start the Kernel. \n",
      "\u001b[1;31mOSError: [WinError 123] The filename, directory name, or volume label syntax is incorrect: '\"c:'. \n",
      "\u001b[1;31mView Jupyter <a href='command:jupyter.viewOutput'>log</a> for further details."
     ]
    }
   ],
   "source": [
    "# Replacing null values of bmi with mean of bmi column\n",
    "\n",
    "df_stroke.bmi.replace(to_replace=np.nan,value=df_stroke.bmi.mean(), inplace=True)\n",
    "print (df_stroke.shape)"
   ]
  },
  {
   "cell_type": "code",
   "execution_count": null,
   "id": "e8b77747",
   "metadata": {},
   "outputs": [
    {
     "ename": "",
     "evalue": "",
     "output_type": "error",
     "traceback": [
      "\u001b[1;31mFailed to start the Kernel. \n",
      "\u001b[1;31mOSError: [WinError 123] The filename, directory name, or volume label syntax is incorrect: '\"c:'. \n",
      "\u001b[1;31mView Jupyter <a href='command:jupyter.viewOutput'>log</a> for further details."
     ]
    }
   ],
   "source": [
    "# missing values \n",
    "df_stroke.isna().sum()"
   ]
  },
  {
   "cell_type": "code",
   "execution_count": null,
   "id": "8da640b9",
   "metadata": {},
   "outputs": [
    {
     "ename": "",
     "evalue": "",
     "output_type": "error",
     "traceback": [
      "\u001b[1;31mFailed to start the Kernel. \n",
      "\u001b[1;31mOSError: [WinError 123] The filename, directory name, or volume label syntax is incorrect: '\"c:'. \n",
      "\u001b[1;31mView Jupyter <a href='command:jupyter.viewOutput'>log</a> for further details."
     ]
    }
   ],
   "source": [
    "df_stroke.head()"
   ]
  },
  {
   "cell_type": "code",
   "execution_count": null,
   "id": "f366ab4a",
   "metadata": {},
   "outputs": [
    {
     "ename": "",
     "evalue": "",
     "output_type": "error",
     "traceback": [
      "\u001b[1;31mFailed to start the Kernel. \n",
      "\u001b[1;31mOSError: [WinError 123] The filename, directory name, or volume label syntax is incorrect: '\"c:'. \n",
      "\u001b[1;31mView Jupyter <a href='command:jupyter.viewOutput'>log</a> for further details."
     ]
    }
   ],
   "source": [
    "df_stroke.tail()"
   ]
  },
  {
   "cell_type": "code",
   "execution_count": null,
   "id": "c69ce14e",
   "metadata": {},
   "outputs": [
    {
     "ename": "",
     "evalue": "",
     "output_type": "error",
     "traceback": [
      "\u001b[1;31mFailed to start the Kernel. \n",
      "\u001b[1;31mOSError: [WinError 123] The filename, directory name, or volume label syntax is incorrect: '\"c:'. \n",
      "\u001b[1;31mView Jupyter <a href='command:jupyter.viewOutput'>log</a> for further details."
     ]
    }
   ],
   "source": [
    "df_stroke.gender.value_counts()"
   ]
  },
  {
   "cell_type": "code",
   "execution_count": null,
   "id": "567a7017",
   "metadata": {},
   "outputs": [
    {
     "ename": "",
     "evalue": "",
     "output_type": "error",
     "traceback": [
      "\u001b[1;31mFailed to start the Kernel. \n",
      "\u001b[1;31mOSError: [WinError 123] The filename, directory name, or volume label syntax is incorrect: '\"c:'. \n",
      "\u001b[1;31mView Jupyter <a href='command:jupyter.viewOutput'>log</a> for further details."
     ]
    }
   ],
   "source": [
    "# number of 'other' is very small, converting the value to 'Male'\n",
    "df_stroke['gender']=df_stroke['gender'].replace('Other','Male')"
   ]
  },
  {
   "cell_type": "code",
   "execution_count": null,
   "id": "a7457b8b",
   "metadata": {},
   "outputs": [
    {
     "ename": "",
     "evalue": "",
     "output_type": "error",
     "traceback": [
      "\u001b[1;31mFailed to start the Kernel. \n",
      "\u001b[1;31mOSError: [WinError 123] The filename, directory name, or volume label syntax is incorrect: '\"c:'. \n",
      "\u001b[1;31mView Jupyter <a href='command:jupyter.viewOutput'>log</a> for further details."
     ]
    }
   ],
   "source": [
    "df_stroke.replace({ 'gender': {'Male':1 ,'Female':0}} ,inplace=True)\n",
    "df_stroke.replace({ 'ever_married': {'No':0 ,'Yes':1}} ,inplace=True)\n",
    "df_stroke.replace({ 'Residence_type': {'Rural':0 ,'Urban':1}} ,inplace=True)\n",
    "df_stroke.replace({ 'smoking_status': {'Unknown':0 ,'never smoked':1,'formerly smoked':2,'smokes':3}} ,inplace=True)\n",
    "df_stroke.replace({ 'work_type': {'Private':0 ,'Self-employed':1,'children':2,'Govt_job':3,'Never_worked':4}} ,inplace=True)"
   ]
  },
  {
   "cell_type": "code",
   "execution_count": null,
   "id": "6d1dddc8",
   "metadata": {},
   "outputs": [
    {
     "ename": "",
     "evalue": "",
     "output_type": "error",
     "traceback": [
      "\u001b[1;31mFailed to start the Kernel. \n",
      "\u001b[1;31mOSError: [WinError 123] The filename, directory name, or volume label syntax is incorrect: '\"c:'. \n",
      "\u001b[1;31mView Jupyter <a href='command:jupyter.viewOutput'>log</a> for further details."
     ]
    }
   ],
   "source": [
    "#checking Datatypes\n",
    "df_stroke.dtypes"
   ]
  },
  {
   "cell_type": "code",
   "execution_count": null,
   "id": "eccdf6f0",
   "metadata": {},
   "outputs": [
    {
     "ename": "",
     "evalue": "",
     "output_type": "error",
     "traceback": [
      "\u001b[1;31mFailed to start the Kernel. \n",
      "\u001b[1;31mOSError: [WinError 123] The filename, directory name, or volume label syntax is incorrect: '\"c:'. \n",
      "\u001b[1;31mView Jupyter <a href='command:jupyter.viewOutput'>log</a> for further details."
     ]
    }
   ],
   "source": [
    "# distribution of gender \n",
    "p = sns.countplot(data=df_stroke, x = 'gender', palette='PuBuGn')"
   ]
  },
  {
   "cell_type": "code",
   "execution_count": null,
   "id": "aa849d62",
   "metadata": {},
   "outputs": [
    {
     "ename": "",
     "evalue": "",
     "output_type": "error",
     "traceback": [
      "\u001b[1;31mFailed to start the Kernel. \n",
      "\u001b[1;31mOSError: [WinError 123] The filename, directory name, or volume label syntax is incorrect: '\"c:'. \n",
      "\u001b[1;31mView Jupyter <a href='command:jupyter.viewOutput'>log</a> for further details."
     ]
    }
   ],
   "source": [
    "# distribution of gender \n",
    "p = sns.countplot(data=df_stroke, x = 'stroke', palette='PuBuGn')"
   ]
  },
  {
   "cell_type": "code",
   "execution_count": null,
   "id": "2fdd7299",
   "metadata": {},
   "outputs": [
    {
     "ename": "",
     "evalue": "",
     "output_type": "error",
     "traceback": [
      "\u001b[1;31mFailed to start the Kernel. \n",
      "\u001b[1;31mOSError: [WinError 123] The filename, directory name, or volume label syntax is incorrect: '\"c:'. \n",
      "\u001b[1;31mView Jupyter <a href='command:jupyter.viewOutput'>log</a> for further details."
     ]
    }
   ],
   "source": [
    "df_st=['gender','hypertension','heart_disease','ever_married','work_type','Residence_type','smoking_status', 'stroke']\n",
    "fig, axs = plt.subplots(4, 2, figsize=(14,20))\n",
    "axs = axs.flatten()\n",
    "for i, col_name in enumerate(df_st):\n",
    "    sns.countplot(x=col_name, data=df_stroke, ax=axs[i], hue =df_stroke['stroke'],palette='mako_r')"
   ]
  },
  {
   "cell_type": "code",
   "execution_count": null,
   "id": "833ac377",
   "metadata": {},
   "outputs": [
    {
     "ename": "",
     "evalue": "",
     "output_type": "error",
     "traceback": [
      "\u001b[1;31mFailed to start the Kernel. \n",
      "\u001b[1;31mOSError: [WinError 123] The filename, directory name, or volume label syntax is incorrect: '\"c:'. \n",
      "\u001b[1;31mView Jupyter <a href='command:jupyter.viewOutput'>log</a> for further details."
     ]
    }
   ],
   "source": [
    "#correlation matrix for features\n",
    "f,ax = plt.subplots(figsize=(12, 12))\n",
    "ax.set_title('Correlation matrix')\n",
    "sns.heatmap(df_stroke.corr(), annot=True, linewidths=.5, fmt= '.1f',ax=ax,cmap=\"icefire\")"
   ]
  },
  {
   "cell_type": "code",
   "execution_count": null,
   "id": "6f1140c2",
   "metadata": {},
   "outputs": [
    {
     "ename": "",
     "evalue": "",
     "output_type": "error",
     "traceback": [
      "\u001b[1;31mFailed to start the Kernel. \n",
      "\u001b[1;31mOSError: [WinError 123] The filename, directory name, or volume label syntax is incorrect: '\"c:'. \n",
      "\u001b[1;31mView Jupyter <a href='command:jupyter.viewOutput'>log</a> for further details."
     ]
    }
   ],
   "source": [
    "#Defining X and y\n",
    "X = df_stroke.drop(['stroke'], axis=1)\n",
    "y = df_stroke['stroke']\n",
    "\n",
    "#  dataset split \n",
    "from sklearn.model_selection import train_test_split\n",
    "X_train, X_test , y_train , y_test = train_test_split(X,y,test_size=0.2,random_state=42) # 80:20\n",
    "\n",
    "# Checking split \n",
    "print('X_train:', X_train.shape)\n",
    "print('y_train:', y_train.shape)\n",
    "print('X_test:', X_test.shape)\n",
    "print('y_test:', y_test.shape)"
   ]
  },
  {
   "cell_type": "code",
   "execution_count": null,
   "id": "c26b37aa",
   "metadata": {},
   "outputs": [
    {
     "ename": "",
     "evalue": "",
     "output_type": "error",
     "traceback": [
      "\u001b[1;31mFailed to start the Kernel. \n",
      "\u001b[1;31mOSError: [WinError 123] The filename, directory name, or volume label syntax is incorrect: '\"c:'. \n",
      "\u001b[1;31mView Jupyter <a href='command:jupyter.viewOutput'>log</a> for further details."
     ]
    }
   ],
   "source": [
    "from sklearn.preprocessing import StandardScaler\n",
    "SS=StandardScaler()\n",
    "X_train_SS=SS.fit_transform(X_train)\n",
    "X_test_SS=SS.transform(X_test)\n",
    "import pickle\n",
    "import os\n",
    "#Saving scalar object\n",
    "scalar_path=os.path.join('C:\\\\Users\\\\SANDEEP REDDY CHALLA\\\\OneDrive\\\\Desktop\\Early-Detection-of-Brain-Stroke-main\\\\Early-Detection-of-Brain-Stroke-main','models\\\\scalar.pkl')\n",
    "with open(scalar_path,'wb') as scalar_file:\n",
    "    pickle.dump(SS,scalar_file)"
   ]
  },
  {
   "cell_type": "code",
   "execution_count": null,
   "id": "a1cd4d3e",
   "metadata": {
    "scrolled": true
   },
   "outputs": [
    {
     "ename": "",
     "evalue": "",
     "output_type": "error",
     "traceback": [
      "\u001b[1;31mFailed to start the Kernel. \n",
      "\u001b[1;31mOSError: [WinError 123] The filename, directory name, or volume label syntax is incorrect: '\"c:'. \n",
      "\u001b[1;31mView Jupyter <a href='command:jupyter.viewOutput'>log</a> for further details."
     ]
    }
   ],
   "source": [
    "#SVM\n",
    "\n",
    "import warnings\n",
    "warnings.filterwarnings('ignore')\n",
    "#Support Vector Machine\n",
    "import sys, os\n",
    "\n",
    "#Import svm model\n",
    "from sklearn import svm\n",
    "from sklearn.svm import SVC\n",
    "\n",
    "#Create a svm Classifier\n",
    "svm = SVC(C=1, kernel='rbf')\n",
    "\n",
    "# Train the Classifier/fitting the model\n",
    "svm.fit(X_train_SS, y_train)\n",
    "\n",
    "# predict the response\n",
    "y_pred_svm = svm.predict(X_test_SS)\n",
    "\n",
    "# evaluate accuracy\n",
    "from sklearn import metrics\n",
    "from sklearn.metrics import accuracy_score\n",
    "ac_svm = accuracy_score(y_test, y_pred_svm)\n",
    "print(\"SVM Accuracy:\",metrics.accuracy_score(y_test, y_pred_svm)*100,\"%\")\n",
    "#confusion matrix\n",
    "confusion_matrix = metrics.confusion_matrix(y_test, y_pred_svm)\n",
    "cm_display = metrics.ConfusionMatrixDisplay(confusion_matrix = confusion_matrix, display_labels = [True , False])\n",
    "cm_display.plot()\n",
    "plt.show()"
   ]
  },
  {
   "cell_type": "code",
   "execution_count": null,
   "id": "b488a6b2",
   "metadata": {},
   "outputs": [
    {
     "ename": "",
     "evalue": "",
     "output_type": "error",
     "traceback": [
      "\u001b[1;31mFailed to start the Kernel. \n",
      "\u001b[1;31mOSError: [WinError 123] The filename, directory name, or volume label syntax is incorrect: '\"c:'. \n",
      "\u001b[1;31mView Jupyter <a href='command:jupyter.viewOutput'>log</a> for further details."
     ]
    }
   ],
   "source": [
    "from sklearn.metrics import classification_report\n",
    "print(classification_report(y_test,y_pred_svm))"
   ]
  },
  {
   "cell_type": "code",
   "execution_count": null,
   "id": "9deda9fe",
   "metadata": {},
   "outputs": [
    {
     "ename": "",
     "evalue": "",
     "output_type": "error",
     "traceback": [
      "\u001b[1;31mFailed to start the Kernel. \n",
      "\u001b[1;31mOSError: [WinError 123] The filename, directory name, or volume label syntax is incorrect: '\"c:'. \n",
      "\u001b[1;31mView Jupyter <a href='command:jupyter.viewOutput'>log</a> for further details."
     ]
    }
   ],
   "source": [
    "#KNN\n",
    "import sys, os\n",
    "\n",
    "# Import KNN classifier\n",
    "from sklearn.neighbors import KNeighborsClassifier\n",
    "\n",
    "# instantiate learning model (K = 5)\n",
    "knn = KNeighborsClassifier(n_neighbors=5)\n",
    "\n",
    "# Train the Classifier/fitting the model\n",
    "knn.fit(X_train_SS, y_train)\n",
    "\n",
    "# predict the response\n",
    "y_pred_knn = knn.predict(X_test_SS)\n",
    "\n",
    "\n",
    "#Import scikit-learn metrics module for accuracy calculation\n",
    "from sklearn import metrics\n",
    "from sklearn.neighbors import _dist_metrics\n",
    "from sklearn.metrics import accuracy_score\n",
    "ac_knn = accuracy_score(y_test, y_pred_knn)\n",
    "# evaluate accuracy\n",
    "print(\"kNN Accuracy:\",metrics.accuracy_score(y_test, y_pred_knn)*100,\"%\")\n",
    "#confusion matrix\n",
    "confusion_matrix = metrics.confusion_matrix(y_test, y_pred_knn)\n",
    "cm_display = metrics.ConfusionMatrixDisplay(confusion_matrix = confusion_matrix, display_labels = [True , False])\n",
    "cm_display.plot()\n",
    "plt.show()"
   ]
  },
  {
   "cell_type": "code",
   "execution_count": null,
   "id": "f8379fb3",
   "metadata": {},
   "outputs": [
    {
     "ename": "",
     "evalue": "",
     "output_type": "error",
     "traceback": [
      "\u001b[1;31mFailed to start the Kernel. \n",
      "\u001b[1;31mOSError: [WinError 123] The filename, directory name, or volume label syntax is incorrect: '\"c:'. \n",
      "\u001b[1;31mView Jupyter <a href='command:jupyter.viewOutput'>log</a> for further details."
     ]
    }
   ],
   "source": [
    "print(classification_report(y_test,y_pred_knn))"
   ]
  },
  {
   "cell_type": "code",
   "execution_count": null,
   "id": "1a30509d",
   "metadata": {},
   "outputs": [
    {
     "ename": "",
     "evalue": "",
     "output_type": "error",
     "traceback": [
      "\u001b[1;31mFailed to start the Kernel. \n",
      "\u001b[1;31mOSError: [WinError 123] The filename, directory name, or volume label syntax is incorrect: '\"c:'. \n",
      "\u001b[1;31mView Jupyter <a href='command:jupyter.viewOutput'>log</a> for further details."
     ]
    }
   ],
   "source": [
    "#Logistic Regression\n",
    "import sys,os\n",
    "\n",
    "#import lg model\n",
    "from sklearn.linear_model import LogisticRegression\n",
    "\n",
    "lr = LogisticRegression()\n",
    "\n",
    "#train the lg model\n",
    "lr.fit(X_train_SS, y_train)\n",
    "\n",
    "#predict the response\n",
    "y_pred_lr=lr.predict(X_test_SS)\n",
    "\n",
    "#Import scikit-learn metrics module for accuracy calculation\n",
    "from sklearn import metrics\n",
    "from sklearn.metrics import accuracy_score\n",
    "ac_lr = accuracy_score(y_test, y_pred_lr)\n",
    "# evaluate accuracy\n",
    "print(\"lr Accuracy:\",metrics.accuracy_score(y_test, y_pred_lr)*100,\"%\")\n",
    "#confusion matrix\n",
    "confusion_matrix = metrics.confusion_matrix(y_test, y_pred_lr)\n",
    "cm_display = metrics.ConfusionMatrixDisplay(confusion_matrix = confusion_matrix, display_labels = [True , False])\n",
    "cm_display.plot()\n",
    "plt.show()"
   ]
  },
  {
   "cell_type": "code",
   "execution_count": null,
   "id": "17bcc0ab",
   "metadata": {},
   "outputs": [
    {
     "ename": "",
     "evalue": "",
     "output_type": "error",
     "traceback": [
      "\u001b[1;31mFailed to start the Kernel. \n",
      "\u001b[1;31mOSError: [WinError 123] The filename, directory name, or volume label syntax is incorrect: '\"c:'. \n",
      "\u001b[1;31mView Jupyter <a href='command:jupyter.viewOutput'>log</a> for further details."
     ]
    }
   ],
   "source": [
    "print(classification_report(y_test,y_pred_lr))"
   ]
  },
  {
   "cell_type": "code",
   "execution_count": null,
   "id": "c12abfb6",
   "metadata": {},
   "outputs": [
    {
     "ename": "",
     "evalue": "",
     "output_type": "error",
     "traceback": [
      "\u001b[1;31mFailed to start the Kernel. \n",
      "\u001b[1;31mOSError: [WinError 123] The filename, directory name, or volume label syntax is incorrect: '\"c:'. \n",
      "\u001b[1;31mView Jupyter <a href='command:jupyter.viewOutput'>log</a> for further details."
     ]
    }
   ],
   "source": [
    "import warnings\n",
    "warnings.filterwarnings('ignore')\n",
    "#import Decision Tree Classifier\n",
    "from sklearn.tree import DecisionTreeClassifier\n",
    "from sklearn import tree\n",
    "\n",
    "# Create Decision Tree classifer object\n",
    "dt = DecisionTreeClassifier()\n",
    "\n",
    "# Train the Classifier/fitting the model\n",
    "dt.fit(X_train_SS, y_train)\n",
    "\n",
    "# predict the response\n",
    "y_pred_dt= dt.predict(X_test_SS)\n",
    "\n",
    "ac_dt = accuracy_score(y_test, y_pred_dt)\n",
    "# evaluate accuracy\n",
    "print(\"dt Accuracy:\",metrics.accuracy_score(y_test, y_pred_dt)*100,\"%\")\n",
    "#confusion matrix\n",
    "confusion_matrix = metrics.confusion_matrix(y_test, y_pred_dt)\n",
    "cm_display = metrics.ConfusionMatrixDisplay(confusion_matrix = confusion_matrix, display_labels = [True, False])\n",
    "cm_display.plot()\n",
    "plt.show()"
   ]
  },
  {
   "cell_type": "code",
   "execution_count": null,
   "id": "990c4738",
   "metadata": {},
   "outputs": [
    {
     "ename": "",
     "evalue": "",
     "output_type": "error",
     "traceback": [
      "\u001b[1;31mFailed to start the Kernel. \n",
      "\u001b[1;31mOSError: [WinError 123] The filename, directory name, or volume label syntax is incorrect: '\"c:'. \n",
      "\u001b[1;31mView Jupyter <a href='command:jupyter.viewOutput'>log</a> for further details."
     ]
    }
   ],
   "source": [
    "print(classification_report(y_test,y_pred_dt))"
   ]
  },
  {
   "cell_type": "code",
   "execution_count": null,
   "id": "c8cae5d0",
   "metadata": {},
   "outputs": [
    {
     "ename": "",
     "evalue": "",
     "output_type": "error",
     "traceback": [
      "\u001b[1;31mFailed to start the Kernel. \n",
      "\u001b[1;31mOSError: [WinError 123] The filename, directory name, or volume label syntax is incorrect: '\"c:'. \n",
      "\u001b[1;31mView Jupyter <a href='command:jupyter.viewOutput'>log</a> for further details."
     ]
    }
   ],
   "source": [
    "#AdaBoost\n",
    "\n",
    "from sklearn.ensemble import AdaBoostClassifier\n",
    "ab = AdaBoostClassifier()\n",
    "\n",
    "ab.fit(X_train_SS,y_train)\n",
    "AdaBoostClassifier()\n",
    "\n",
    "y_pred_ab=ab.predict(X_test_SS)\n",
    "from sklearn.metrics import accuracy_score\n",
    "ac_ab=accuracy_score(y_test,y_pred_ab)\n",
    "\n",
    "# evaluate accuracy\n",
    "print(\"ab Accuracy:\",metrics.accuracy_score(y_test, y_pred_ab)*100,\"%\")\n",
    "#confusion matrix\n",
    "confusion_matrix = metrics.confusion_matrix(y_test, y_pred_ab)\n",
    "cm_display = metrics.ConfusionMatrixDisplay(confusion_matrix = confusion_matrix, display_labels = [True, False])\n",
    "cm_display.plot()\n",
    "plt.show()"
   ]
  },
  {
   "cell_type": "code",
   "execution_count": null,
   "id": "1ae6128f",
   "metadata": {},
   "outputs": [
    {
     "ename": "",
     "evalue": "",
     "output_type": "error",
     "traceback": [
      "\u001b[1;31mFailed to start the Kernel. \n",
      "\u001b[1;31mOSError: [WinError 123] The filename, directory name, or volume label syntax is incorrect: '\"c:'. \n",
      "\u001b[1;31mView Jupyter <a href='command:jupyter.viewOutput'>log</a> for further details."
     ]
    }
   ],
   "source": [
    "print(classification_report(y_test,y_pred_ab))"
   ]
  },
  {
   "cell_type": "code",
   "execution_count": null,
   "id": "a4990052",
   "metadata": {},
   "outputs": [
    {
     "ename": "",
     "evalue": "",
     "output_type": "error",
     "traceback": [
      "\u001b[1;31mFailed to start the Kernel. \n",
      "\u001b[1;31mOSError: [WinError 123] The filename, directory name, or volume label syntax is incorrect: '\"c:'. \n",
      "\u001b[1;31mView Jupyter <a href='command:jupyter.viewOutput'>log</a> for further details."
     ]
    }
   ],
   "source": [
    "#BernoulliNB\n",
    "from sklearn.naive_bayes import BernoulliNB\n",
    "bnb = BernoulliNB()\n",
    "\n",
    "bnb.fit(X_train_SS,y_train)\n",
    "BernoulliNB()\n",
    "\n",
    "y_pred_bnb=bnb.predict(X_test_SS)\n",
    "\n",
    "from sklearn.metrics import accuracy_score\n",
    "ac_bnb=accuracy_score(y_test,y_pred_bnb)\n",
    "\n",
    "print(\"bnb Accuracy:\",metrics.accuracy_score(y_test, y_pred_bnb)*100,\"%\")\n",
    "#confusion matrix\n",
    "confusion_matrix = metrics.confusion_matrix(y_test, y_pred_bnb)\n",
    "cm_display = metrics.ConfusionMatrixDisplay(confusion_matrix = confusion_matrix, display_labels = [True, False])\n",
    "cm_display.plot()\n",
    "plt.show()\n"
   ]
  },
  {
   "cell_type": "code",
   "execution_count": null,
   "id": "9885baa4",
   "metadata": {},
   "outputs": [
    {
     "ename": "",
     "evalue": "",
     "output_type": "error",
     "traceback": [
      "\u001b[1;31mFailed to start the Kernel. \n",
      "\u001b[1;31mOSError: [WinError 123] The filename, directory name, or volume label syntax is incorrect: '\"c:'. \n",
      "\u001b[1;31mView Jupyter <a href='command:jupyter.viewOutput'>log</a> for further details."
     ]
    }
   ],
   "source": [
    "print(classification_report(y_test,y_pred_bnb))"
   ]
  },
  {
   "cell_type": "code",
   "execution_count": null,
   "id": "bbd5459b",
   "metadata": {},
   "outputs": [
    {
     "ename": "",
     "evalue": "",
     "output_type": "error",
     "traceback": [
      "\u001b[1;31mFailed to start the Kernel. \n",
      "\u001b[1;31mOSError: [WinError 123] The filename, directory name, or volume label syntax is incorrect: '\"c:'. \n",
      "\u001b[1;31mView Jupyter <a href='command:jupyter.viewOutput'>log</a> for further details."
     ]
    }
   ],
   "source": [
    "#Random forest\n",
    "\n",
    "from sklearn.ensemble import RandomForestClassifier\n",
    "rf = RandomForestClassifier()\n",
    "rf.fit(X_train_SS,y_train)\n",
    "\n",
    "RandomForestClassifier()\n",
    "y_pred_rf=rf.predict(X_test_SS)\n",
    "\n",
    "from sklearn.metrics import accuracy_score\n",
    "ac_rf=accuracy_score(y_test,y_pred_rf)\n",
    "\n",
    "print(\"dt Accuracy:\",metrics.accuracy_score(y_test, y_pred_rf)*100,\"%\")\n",
    "#confusion matrix\n",
    "confusion_matrix = metrics.confusion_matrix(y_test, y_pred_rf)\n",
    "cm_display = metrics.ConfusionMatrixDisplay(confusion_matrix = confusion_matrix, display_labels = [True, False])\n",
    "cm_display.plot()\n",
    "plt.show()"
   ]
  },
  {
   "cell_type": "code",
   "execution_count": null,
   "id": "5ed035bb",
   "metadata": {},
   "outputs": [
    {
     "ename": "",
     "evalue": "",
     "output_type": "error",
     "traceback": [
      "\u001b[1;31mFailed to start the Kernel. \n",
      "\u001b[1;31mOSError: [WinError 123] The filename, directory name, or volume label syntax is incorrect: '\"c:'. \n",
      "\u001b[1;31mView Jupyter <a href='command:jupyter.viewOutput'>log</a> for further details."
     ]
    }
   ],
   "source": [
    "print(classification_report(y_test,y_pred_rf))"
   ]
  },
  {
   "cell_type": "code",
   "execution_count": null,
   "id": "110f211b",
   "metadata": {},
   "outputs": [
    {
     "ename": "",
     "evalue": "",
     "output_type": "error",
     "traceback": [
      "\u001b[1;31mFailed to start the Kernel. \n",
      "\u001b[1;31mOSError: [WinError 123] The filename, directory name, or volume label syntax is incorrect: '\"c:'. \n",
      "\u001b[1;31mView Jupyter <a href='command:jupyter.viewOutput'>log</a> for further details."
     ]
    }
   ],
   "source": [
    "print(\"SVM :\",ac_svm)\n",
    "print(\"KNN :\",ac_knn)\n",
    "print(\"LR :\",ac_lr)\n",
    "print(\"DT :\",ac_dt)\n",
    "print(\"AB :\",ac_ab)\n",
    "print(\"BNB :\",ac_bnb)\n",
    "print(\"RF :\",ac_rf)\n",
    "plt.bar(['SVM','KNN','LR','DT','AB','BNB','RF'],[ac_svm,ac_knn,ac_lr,ac_dt,ac_ab,ac_bnb,ac_rf])\n",
    "plt.xlabel(\"Algorithms\")\n",
    "plt.ylabel(\"Accuracy\")\n",
    "plt.title(\"Accuracy comparitative Analysis\")\n",
    "plt.show()"
   ]
  },
  {
   "cell_type": "code",
   "execution_count": null,
   "id": "ffd40d10",
   "metadata": {},
   "outputs": [
    {
     "ename": "",
     "evalue": "",
     "output_type": "error",
     "traceback": [
      "\u001b[1;31mFailed to start the Kernel. \n",
      "\u001b[1;31mOSError: [WinError 123] The filename, directory name, or volume label syntax is incorrect: '\"c:'. \n",
      "\u001b[1;31mView Jupyter <a href='command:jupyter.viewOutput'>log</a> for further details."
     ]
    }
   ],
   "source": [
    "import joblib\n",
    "model_path=os.path.join('C:\\\\Users\\\\SANDEEP REDDY CHALLA\\\\OneDrive\\\\Desktop\\\\Early-Detection-of-Brain-Stroke-main\\\\Early-Detection-of-Brain-Stroke-main','models\\\\svm.sav')\n",
    "joblib.dump(svm,model_path)"
   ]
  },
  {
   "cell_type": "code",
   "execution_count": null,
   "id": "b0343637",
   "metadata": {},
   "outputs": [
    {
     "ename": "",
     "evalue": "",
     "output_type": "error",
     "traceback": [
      "\u001b[1;31mFailed to start the Kernel. \n",
      "\u001b[1;31mOSError: [WinError 123] The filename, directory name, or volume label syntax is incorrect: '\"c:'. \n",
      "\u001b[1;31mView Jupyter <a href='command:jupyter.viewOutput'>log</a> for further details."
     ]
    }
   ],
   "source": [
    "model_path=os.path.join('C:\\\\Users\\\\SANDEEP REDDY CHALLA\\\\OneDrive\\\\Desktop\\\\Early-Detection-of-Brain-Stroke-main\\\\Early-Detection-of-Brain-Stroke-main','models\\\\knn.sav')\n",
    "joblib.dump(knn,model_path)"
   ]
  },
  {
   "cell_type": "code",
   "execution_count": null,
   "id": "7bdc4f08",
   "metadata": {},
   "outputs": [
    {
     "ename": "",
     "evalue": "",
     "output_type": "error",
     "traceback": [
      "\u001b[1;31mFailed to start the Kernel. \n",
      "\u001b[1;31mOSError: [WinError 123] The filename, directory name, or volume label syntax is incorrect: '\"c:'. \n",
      "\u001b[1;31mView Jupyter <a href='command:jupyter.viewOutput'>log</a> for further details."
     ]
    }
   ],
   "source": [
    "import joblib\n",
    "model_path=os.path.join('C:\\\\Users\\\\SANDEEP REDDY CHALLA\\\\OneDrive\\\\Desktop\\\\Early-Detection-of-Brain-Stroke-main\\\\Early-Detection-of-Brain-Stroke-main','models\\\\lr.sav')\n",
    "joblib.dump(lr,model_path)"
   ]
  },
  {
   "cell_type": "code",
   "execution_count": null,
   "id": "df2b85c5",
   "metadata": {},
   "outputs": [
    {
     "ename": "",
     "evalue": "",
     "output_type": "error",
     "traceback": [
      "\u001b[1;31mFailed to start the Kernel. \n",
      "\u001b[1;31mOSError: [WinError 123] The filename, directory name, or volume label syntax is incorrect: '\"c:'. \n",
      "\u001b[1;31mView Jupyter <a href='command:jupyter.viewOutput'>log</a> for further details."
     ]
    }
   ],
   "source": [
    "import joblib\n",
    "model_path=os.path.join('C:\\\\Users\\\\SANDEEP REDDY CHALLA\\\\OneDrive\\\\Desktop\\\\Early-Detection-of-Brain-Stroke-main\\\\Early-Detection-of-Brain-Stroke-main','models\\\\dt.sav')\n",
    "joblib.dump(dt,model_path)"
   ]
  },
  {
   "cell_type": "code",
   "execution_count": null,
   "id": "43780cbb",
   "metadata": {},
   "outputs": [
    {
     "ename": "",
     "evalue": "",
     "output_type": "error",
     "traceback": [
      "\u001b[1;31mFailed to start the Kernel. \n",
      "\u001b[1;31mOSError: [WinError 123] The filename, directory name, or volume label syntax is incorrect: '\"c:'. \n",
      "\u001b[1;31mView Jupyter <a href='command:jupyter.viewOutput'>log</a> for further details."
     ]
    }
   ],
   "source": [
    "import joblib\n",
    "model_path=os.path.join('C:\\\\Users\\\\SANDEEP REDDY CHALLA\\\\OneDrive\\\\Desktop\\\\Early-Detection-of-Brain-Stroke-main\\\\Early-Detection-of-Brain-Stroke-main','models\\\\ab.sav')\n",
    "joblib.dump(ab,model_path)"
   ]
  },
  {
   "cell_type": "code",
   "execution_count": null,
   "id": "26f75637",
   "metadata": {},
   "outputs": [
    {
     "ename": "",
     "evalue": "",
     "output_type": "error",
     "traceback": [
      "\u001b[1;31mFailed to start the Kernel. \n",
      "\u001b[1;31mOSError: [WinError 123] The filename, directory name, or volume label syntax is incorrect: '\"c:'. \n",
      "\u001b[1;31mView Jupyter <a href='command:jupyter.viewOutput'>log</a> for further details."
     ]
    }
   ],
   "source": [
    "import joblib\n",
    "model_path=os.path.join('C:\\\\Users\\\\SANDEEP REDDY CHALLA\\\\OneDrive\\\\Desktop\\\\Early-Detection-of-Brain-Stroke-main\\\\Early-Detection-of-Brain-Stroke-main','models\\\\bnb.sav')\n",
    "joblib.dump(bnb,model_path)"
   ]
  },
  {
   "cell_type": "code",
   "execution_count": null,
   "id": "46d3d454",
   "metadata": {},
   "outputs": [
    {
     "ename": "",
     "evalue": "",
     "output_type": "error",
     "traceback": [
      "\u001b[1;31mFailed to start the Kernel. \n",
      "\u001b[1;31mOSError: [WinError 123] The filename, directory name, or volume label syntax is incorrect: '\"c:'. \n",
      "\u001b[1;31mView Jupyter <a href='command:jupyter.viewOutput'>log</a> for further details."
     ]
    }
   ],
   "source": [
    "import joblib\n",
    "model_path=os.path.join('C:\\\\Users\\\\SANDEEP REDDY CHALLA\\\\OneDrive\\\\Desktop\\\\Early-Detection-of-Brain-Stroke-main\\\\Early-Detection-of-Brain-Stroke-main','models\\\\rf.sav')\n",
    "joblib.dump(rf,model_path)"
   ]
  }
 ],
 "metadata": {
  "kernelspec": {
   "display_name": "Python 3 (ipykernel)",
   "language": "python",
   "name": "python3"
  },
  "language_info": {
   "codemirror_mode": {
    "name": "ipython",
    "version": 3
   },
   "file_extension": ".py",
   "mimetype": "text/x-python",
   "name": "python",
   "nbconvert_exporter": "python",
   "pygments_lexer": "ipython3",
   "version": "3.6.8"
  }
 },
 "nbformat": 4,
 "nbformat_minor": 5
}
